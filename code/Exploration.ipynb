{
 "cells": [
  {
   "cell_type": "code",
   "execution_count": null,
   "id": "d4aeae63",
   "metadata": {},
   "outputs": [],
   "source": [
    "from paralleltomo import paralleltomo"
   ]
  },
  {
   "cell_type": "markdown",
   "id": "51e60a61",
   "metadata": {},
   "source": [
    "Ovenstående tests leder til følgende observationer ved sammenligning med billederne plottet ovenfor:\n",
    "\n",
    "- Værdien `0` svarer til *luft*\n",
    "- Værdien `8.5e-3` svarer til *Træ*\n",
    "- Værdien `3.71e-3` svarer til *Bly*\n",
    "- Værdien `0.054` svarer til *Stål*\n",
    "\n",
    "For bedre at kunne skelne mellem luft, træ, bly og stål på billedet introduceres derfor farvekanaler"
   ]
  },
  {
   "cell_type": "code",
   "execution_count": null,
   "id": "e1d7c640",
   "metadata": {},
   "outputs": [],
   "source": []
  }
 ],
 "metadata": {
  "kernelspec": {
   "display_name": "Python 3",
   "language": "python",
   "name": "python3"
  },
  "language_info": {
   "codemirror_mode": {
    "name": "ipython",
    "version": 3
   },
   "file_extension": ".py",
   "mimetype": "text/x-python",
   "name": "python",
   "nbconvert_exporter": "python",
   "pygments_lexer": "ipython3",
   "version": "3.11.2"
  },
  "vscode": {
   "interpreter": {
    "hash": "b0fa6594d8f4cbf19f97940f81e996739fb7646882a419484c72d19e05852a7e"
   }
  }
 },
 "nbformat": 4,
 "nbformat_minor": 5
}
